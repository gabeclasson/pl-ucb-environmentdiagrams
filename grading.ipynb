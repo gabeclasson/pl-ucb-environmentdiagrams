{
 "cells": [
  {
   "cell_type": "code",
   "execution_count": null,
   "metadata": {},
   "outputs": [],
   "source": [
    "# TODO: move this to an appropriate folder\n",
    "import inspect\n",
    "import dill\n",
    "import heapq # only used for second step of code modification with bindings tracking and in exitlines func"
   ]
  },
  {
   "cell_type": "markdown",
   "metadata": {},
   "source": [
    "# Notebook Use"
   ]
  },
  {
   "cell_type": "code",
   "execution_count": null,
   "metadata": {},
   "outputs": [],
   "source": [
    "debug_messages = True"
   ]
  },
  {
   "cell_type": "markdown",
   "metadata": {},
   "source": [
    "# Frame definitions and init"
   ]
  },
  {
   "cell_type": "code",
   "execution_count": 2,
   "metadata": {},
   "outputs": [],
   "source": [
    "class Frame():\n",
    "    # I, Noemi, refer to this as a FrameNode to remove ambiguity with FrameObjects for the time being. \n",
    "    is_global = False\n",
    "    exitline = None\n",
    "\n",
    "    def __init__(self, name = None, bindings=None, parent=None, fobj=None):\n",
    "        self.parent = parent\n",
    "        self.children = set()\n",
    "        if bindings is None:\n",
    "            self.bindings = {}\n",
    "        self.name = name\n",
    "        # self's frame object\n",
    "        self.fobj = fobj\n",
    "\n",
    "    def bind(self, name, value):\n",
    "        self.bindings[name] = value # Note: this will allow for duplicate entries. need to figure out a better way to do this. \n",
    "    \n",
    "    def bind(self, name_value_dict):\n",
    "        self.bindings = name_value_dict # Note: this will allow for duplicate entries. need to figure out a better way to do this. \n",
    "    \n",
    "    def set_name(self, name):\n",
    "        self.name = name\n",
    "    \n",
    "    def add_child(self, child):\n",
    "        self.children.add(child)\n",
    "    \n",
    "    def set_exitline(self, exitline):\n",
    "        self.exitline = exitline"
   ]
  },
  {
   "cell_type": "code",
   "execution_count": 3,
   "metadata": {},
   "outputs": [],
   "source": [
    "# a dictionary containing frames with associated variables in the form of a tuple: (type, name, mem loc, value)\n",
    "envframes_dict = {\"global\":{}}\n",
    "fobj_name_dict = {}\n",
    "# associates a frame object to a frame node (or in the case of global, at least for the time being, \"global\" to a frame node.)\n",
    "fobj_framenode_dict = {}\n",
    "env_mutables = {}\n",
    "cnter = 1\n",
    "\n",
    "# TODO: maybe name \"___main___\" instead of global? hmmmmmm but if we have wrapper func then no. \n",
    "def add_new_frame(name = None, bindings = None, frame_dict = envframes_dict): # func should always refer to the caller\n",
    "    curr_frame = inspect.currentframe().f_back\n",
    "    if bindings is None:\n",
    "        bindings = {}\n",
    "    # if no frame nodes have been initialized, set the frame as the global frame and the root\n",
    "    if len(fobj_framenode_dict.keys()) == 0:\n",
    "        name = \"global\"\n",
    "        fobj_framenode_dict[name] = Frame(bindings = bindings, fobj = curr_frame) # TODO: add fobj\n",
    "        # OLD: TODO: also current_fobj not listed, fix\n",
    "        # init FrameNode\n",
    "        frame = Frame(name = name, bindings = bindings, fobj = curr_frame)\n",
    "        envframes_dict[name] = {\"name\": None, \"parent\": None, \"parent_fobj\": None, \"curr_fobj\": curr_frame, \"bindings\":bindings}\n",
    "\n",
    "    else: \n",
    "        name = curr_frame.f_code.co_name\n",
    "        f_name = \"f\" + name #temp TODO: add number\n",
    "        parent_frame = curr_frame.f_back\n",
    "        # TODO: why global be stupid? fix.\n",
    "        parent = fobj_framenode_dict[parent_frame] if parent_frame in fobj_framenode_dict else fobj_framenode_dict[\"global\"] # frame_name_dict[parent_frame] if parent_frame in frame_name_dict else \"global\"\n",
    "        \n",
    "        # OLD: dictionary rep of frame associations. Use for debugging only. \n",
    "        envframes_dict[f_name] = {\"name\": name, \"parent\": parent, \"parent_fobj\": parent_frame, \"curr_fobj\": curr_frame, \"bindings\":bindings}\n",
    "        # init FrameNode\n",
    "        frame = Frame(name = name, bindings = bindings, parent = parent, fobj=curr_frame)\n",
    "        # add self to the pairing dict\n",
    "        fobj_framenode_dict[curr_frame] = frame\n",
    "        # modify parent to include self as a child\n",
    "        parent.add_child(fobj_framenode_dict[curr_frame])\n",
    "        # OLD: dictionary rep between fobj and frame\n",
    "        fobj_name_dict[curr_frame] = name\n",
    "    return frame, fobj_framenode_dict, envframes_dict, fobj_name_dict # messy"
   ]
  },
  {
   "cell_type": "markdown",
   "metadata": {},
   "source": [
    "# code live insertion"
   ]
  },
  {
   "cell_type": "markdown",
   "metadata": {},
   "source": [
    "### step 1: initialize FrameNodes and tracing line exits"
   ]
  },
  {
   "cell_type": "markdown",
   "metadata": {},
   "source": [
    "#### actual"
   ]
  },
  {
   "cell_type": "code",
   "execution_count": 55,
   "metadata": {},
   "outputs": [],
   "source": [
    "example_meow = \"\"\"\n",
    "# TEST: meow\n",
    "def glob_meow():\n",
    "    print(\"in global\")\n",
    "    def A_meow():\n",
    "\n",
    "        # this is a test message\n",
    "        z = 5\n",
    "        return z\n",
    "    A_meow()\n",
    "\n",
    "glob_meow()\"\"\""
   ]
  },
  {
   "cell_type": "code",
   "execution_count": 29,
   "metadata": {},
   "outputs": [],
   "source": [
    "example_meow2 = \"\"\"\n",
    "# TEST: meow2\n",
    "def glob_meow2():\n",
    "    print(\"in global\")\n",
    "    def A_meow2():\n",
    "\n",
    "        # this is a test comment\n",
    "        z = 5\n",
    "        if True:\n",
    "            return z\n",
    "\n",
    "            # test comment\n",
    "        else:\n",
    "            return z - 5\n",
    "\n",
    "    A_meow2()\n",
    "    \n",
    "glob_meow2()\"\"\""
   ]
  },
  {
   "cell_type": "markdown",
   "metadata": {},
   "source": [
    "insert FrameNode tracking into the code"
   ]
  },
  {
   "cell_type": "code",
   "execution_count": 30,
   "metadata": {},
   "outputs": [
    {
     "name": "stdout",
     "output_type": "stream",
     "text": [
      "in global\n"
     ]
    }
   ],
   "source": [
    "# TODO: do this for lambda as well\n",
    "# env_mutables\n",
    "def insertFrameTracking(code):\n",
    "    # TODO: maybe make it so you can input a func directly\n",
    "    \"\"\" code: code as list or string. \n",
    "    this function adds a new line of code initializing the FrameNode in each function definition. \"\"\"\n",
    "    # does this by finding a 'def' statement, then inserting the init immediately after\n",
    "    # if code is given as a string\n",
    "    if isinstance(code, str):\n",
    "        code_list = code.split(\"\\n\")\n",
    "    #elif callable(code):\n",
    "    #    code_list = inspect.getsourcelines(code)[0]\n",
    "    elif isinstance(code, list):\n",
    "        code_list = code\n",
    "    else:\n",
    "        raise Exception(\"inputted code not proper format.\")\n",
    "\n",
    "    # TODO: add mutables\n",
    "    # first init all of the vars\n",
    "    code_list.insert(0, \"envframes_dict = {'global':{}}\")\n",
    "    code_list.insert(1, \"fobj_framenode_dict = {}\")\n",
    "    code_list.insert(2, \"fobj_name_dict = {}\")\n",
    "\n",
    "    #  loop through all remaining code.\n",
    "    i = 3 # modify to consider initalized vars\n",
    "    while i < len(code_list):\n",
    "        if code_list[i].lstrip(' ')[:4] == \"def \":\n",
    "            def_line = i\n",
    "            # find the indent size after the def\n",
    "            whitespace = 0\n",
    "            while whitespace == 0:\n",
    "                i = i + 1\n",
    "                # check to make sure it's not just an empty line\n",
    "                if len(code_list[i].split()) > 0:\n",
    "                    # get size of whitespace before code\n",
    "                    whitespace = len(code_list[i]) - len(code_list[i].lstrip(' '))\n",
    "                    # set this back to the previous line just in case the first non-empty line is a def statement.\n",
    "                    i = i - 1\n",
    "            # insert the code to create the FrameNode\n",
    "            # TODO: make sure none of the variables are already in scope in the code.\n",
    "            code_list.insert(def_line + 1, ' '*whitespace + \"frame, fobj_framenode_dict, envframes_dict, frame_name_dict = add_new_frame() # messy\")\n",
    "        i = i + 1\n",
    "    # if something was in a define statement, handle that.\n",
    "    return str.join(\"\\n\", code_list)\n",
    "\n",
    "# TODO: maybe do this in function?\n",
    "# get modified code with Frame initialization\n",
    "new_code = insertFrameTracking(example_meow2)\n",
    "# THEN RUN EXEC(newcode), \n",
    "exec(new_code)"
   ]
  },
  {
   "cell_type": "markdown",
   "metadata": {},
   "source": [
    "End-line tracing"
   ]
  },
  {
   "cell_type": "code",
   "execution_count": 31,
   "metadata": {},
   "outputs": [
    {
     "name": "stdout",
     "output_type": "stream",
     "text": [
      "========== RUNNING getexitlines ==========\n",
      "========== COMPLETED getexitlines ==========\n"
     ]
    }
   ],
   "source": [
    "# END-LINE TRACING\n",
    "def getexitlines():\n",
    "    # TODO: might get rid of: edits all FrameNodes to include a reference to which line it ends on (in the modified code)\n",
    "    \"\"\"edits all FrameNodes to include a reference to which line it ends on in .exitline. \n",
    "    Additionally returns a max heap of exit lines, and a dictionary mapping exit lines to Frame objects.\"\"\"\n",
    "    if debug_messages: print(\"========== RUNNING getexitlines ==========\") # TODO: make debug_messages a decorator and apply it to all funcs?\n",
    "\n",
    "    exitlines_pq = []\n",
    "    exitlines_fobj_dict = {} # might be able to replace this with an exitlines to var list mapping. if so, change description of this func. \n",
    "    for fobj in fobj_framenode_dict:\n",
    "        frame = fobj_framenode_dict[fobj]\n",
    "        if fobj == \"global\":\n",
    "            fobj = frame.fobj\n",
    "        exitline = frame.fobj.f_lineno - 1\n",
    "        exitlines_pq.append(exitline)\n",
    "        exitlines_fobj_dict[exitline] = fobj\n",
    "        frame.set_exitline(exitline)\n",
    "\n",
    "    if debug_messages: print(\"========== COMPLETED getexitlines ==========\")\n",
    "    heapq._heapify_max(exitlines_pq)\n",
    "    return exitlines_pq, exitlines_fobj_dict\n",
    "exitlines, exitlines_fobj_dict = getexitlines()"
   ]
  },
  {
   "cell_type": "code",
   "execution_count": 189,
   "metadata": {},
   "outputs": [
    {
     "data": {
      "text/plain": [
       "('fobj_framenode_dict', 'env_frames', 'frame_name_dict', 'z')"
      ]
     },
     "execution_count": 189,
     "metadata": {},
     "output_type": "execute_result"
    }
   ],
   "source": [
    "# TEST BLOCK\n",
    "fobj_framenode_dict[envframes_dict[\"fA_meow2\"][\"curr_fobj\"]]\n",
    "frame_test = envframes_dict[\"fA_meow2\"][\"curr_fobj\"]\n",
    "frame_test.f_code.co_varnames"
   ]
  },
  {
   "cell_type": "markdown",
   "metadata": {},
   "source": [
    "### step 2: creating frame objects"
   ]
  },
  {
   "cell_type": "code",
   "execution_count": 37,
   "metadata": {},
   "outputs": [
    {
     "name": "stdout",
     "output_type": "stream",
     "text": [
      "in global\n"
     ]
    }
   ],
   "source": [
    "def insertBindingTracking(exitlines, code):\n",
    "    \"\"\"this function inserts tracking for bindings in each function just before it would otherwise end.\"\"\"\n",
    "    # keeps track of how many lines have been inserted above the \n",
    "    # if code is given as a string\n",
    "    exitlines = exitlines.copy()\n",
    "    code_list = code.split(\"\\n\")\n",
    "    \n",
    "    # get largest exitline\n",
    "    while len(exitlines) > 0:\n",
    "        # get the current exitline (also the first line we insert into)!\n",
    "        exitline = heapq._heappop_max(exitlines)\n",
    "        i = exitline\n",
    "        whitespace = len(code_list[i]) - len(code_list[i].lstrip(' '))\n",
    "\n",
    "        # set variable names for things we are using to store tracking info.\n",
    "        trk_var_names = [\"returnval\", \"locs\", \"bindings\", \"fobj_framenode_dict\", \"envframes_dict\", \"frame_name_dict\"]\n",
    "        # if any of the initial variable names are in the local variable scope, we need to change the offending name(s). TODO: check if this is true once impl is done?\n",
    "        for k in range(len(trk_var_names)):\n",
    "            while trk_var_names[k] in exitlines_fobj_dict[exitline].f_code.co_varnames:\n",
    "                trk_var_names[k] = str(hash(trk_var_names[k] + str(exitline)))[:7]\n",
    "\n",
    "        if code_list[i].lstrip(' ')[:7] == \"return \":\n",
    "            returnval = code_list[i].lstrip(' ')[7:]\n",
    "            # set name for returnval in the code\n",
    "            # change the return line to return the stored value\n",
    "            code_list[i] = ' '*whitespace + \"return \" + trk_var_names[0]\n",
    "            # insert a line that records the return value\n",
    "            code_list.insert(i, ' '*whitespace + trk_var_names[0] + '=' + returnval)\n",
    "            i = i + 1\n",
    "        # store local variables at this point\n",
    "        code_list.insert(i, ' '*whitespace + trk_var_names[1] + '=' \"locals()\")\n",
    "        # store bindings at this point\n",
    "        # TODO: 'var' might also be an issue here..\n",
    "        code_list.insert(i + 1, ' '*whitespace + trk_var_names[2] + '=' \"{var:(type(\" + trk_var_names[1] + \"[var]), \" + trk_var_names[1] + \"[var]) for var in \" + trk_var_names[1] + \"}\")\n",
    "        # TODO: var names\n",
    "        code_list.insert(i + 2, ' '*whitespace + \"frame.bind(\" + trk_var_names[2] + \")\")\n",
    "\n",
    "    return str.join(\"\\n\", code_list)\n",
    "\n",
    "# get modified code with Frame initialization\n",
    "newnew_code = insertBindingTracking(exitlines, new_code)\n",
    "# THEN RUN EXEC(newcode), \n",
    "exec(new_code)"
   ]
  },
  {
   "cell_type": "markdown",
   "metadata": {},
   "source": [
    "# re-organizing of code into a class"
   ]
  },
  {
   "cell_type": "code",
   "execution_count": 38,
   "metadata": {},
   "outputs": [],
   "source": [
    "class FrameTree():\n",
    "    originalcodestring = None\n",
    "    codestring = None\n",
    "    root = None\n",
    "    # TODO: if i set these to {}, does that make these static?\n",
    "    envframes_dict = None\n",
    "    fobj_name_dict = None\n",
    "    env_mutables = None\n",
    "\n",
    "    def __init__(self, codestring):\n",
    "        self.originalcodestring = codestring\n",
    "        self.codestring = codestring\n",
    "        # a dictionary containing frames with associated variables in the form of a tuple: (type, name, mem loc, value)\n",
    "        self.envframes_dict = {\"global\":{}}\n",
    "        self.fobj_name_dict = {}\n",
    "        # associates a frame object to a frame node (or in the case of global, at least for the time being, \"global\" to a frame node.)\n",
    "        self.fobj_framenode_dict = {}\n",
    "        self.env_mutables = {}\n",
    "    \n",
    "    def add_new_frame(self, name = None, bindings = None): # func should always refer to the caller\n",
    "        curr_frame = inspect.currentframe().f_back\n",
    "        if bindings is None:\n",
    "            bindings = {}\n",
    "        # if no frame nodes have been initialized, set the frame as the global frame and the root\n",
    "        if len(fobj_framenode_dict.keys()) == 0:\n",
    "            name = \"global\"\n",
    "            self.fobj_framenode_dict[name] = Frame(bindings = bindings, fobj = curr_frame) # TODO: add fobj\n",
    "            # OLD: TODO: also current_fobj not listed, fi          # init FrameNode\n",
    "            self.frame = Frame(name = name, bindings = bindings, fobj = curr_frame)\n",
    "            self.envframes_dict[name] = {\"name\": None, \"parent\": None, \"parent_fobj\": None, \"curr_fobj\": curr_frame, \"bindings\":bindings}\n",
    "\n",
    "        else: \n",
    "            name = curr_frame.f_code.co_name\n",
    "            f_name = \"f\" + name #temp TODO: add number\n",
    "            parent_frame = curr_frame.f_back\n",
    "            # TODO: why global be stupid? fix.\n",
    "            parent = fobj_framenode_dict[parent_frame] if parent_frame in fobj_framenode_dict else fobj_framenode_dict[\"global\"] # frame_name_dict[parent_frame] if parent_frame in frame_name_dict else \"global\"\n",
    "            \n",
    "            # OLD: dictionary rep of frame associations. Use for debugging only. \n",
    "            self.envframes_dict[f_name] = {\"name\": name, \"parent\": parent, \"parent_fobj\": parent_frame, \"curr_fobj\": curr_frame, \"bindings\":bindings}\n",
    "            # init FrameNode\n",
    "            self.frame = Frame(name = name, bindings = bindings, parent = parent, fobj=curr_frame)\n",
    "            # add self to the pairing dict\n",
    "            self.fobj_framenode_dict[curr_frame] = frame\n",
    "            # modify parent to include self as a child\n",
    "            parent.add_child(fobj_framenode_dict[curr_frame])\n",
    "            # OLD: dictionary rep between fobj and frame\n",
    "            self.fobj_name_dict[curr_frame] = name\n",
    "    \n",
    "    # TODO: do this for lambda as well\n",
    "    def insertFrameTracking(self, codestring):\n",
    "        # TODO: maybe make it so you can input a func directly\n",
    "        \"\"\" codestring: code as a string. \n",
    "        This function adds a new line of code initializing the FrameNode in each function definition. \n",
    "        It then runs the new code made to get exitlines.\"\"\"\n",
    "        # does this by finding a 'def' statement, then inserting the init immediately after\n",
    "        # if code is given as a string\n",
    "        code_list = codestring.split(\"\\n\")\n",
    "\n",
    "        # TODO: add mutables\n",
    "        # first init all of the vars\n",
    "        code_list.insert(0, \"envframes_dict = {'global':{}}\")\n",
    "        code_list.insert(1, \"fobj_framenode_dict = {}\")\n",
    "        code_list.insert(2, \"fobj_name_dict = {}\")\n",
    "\n",
    "        #  loop through all remaining code.\n",
    "        i = 3 # modify to consider initalized vars\n",
    "        while i < len(code_list):\n",
    "            if code_list[i].lstrip(' ')[:4] == \"def \":\n",
    "                def_line = i\n",
    "                # find the indent size after the def\n",
    "                whitespace = 0\n",
    "                while whitespace == 0:\n",
    "                    i = i + 1\n",
    "                    # check to make sure it's not just an empty line\n",
    "                    if len(code_list[i].split()) > 0:\n",
    "                        # get size of whitespace before code\n",
    "                        whitespace = len(code_list[i]) - len(code_list[i].lstrip(' '))\n",
    "                        # set this back to the previous line just in case the first non-empty line is a def statement.\n",
    "                        i = i - 1\n",
    "                # insert the code to create the FrameNode\n",
    "                # TODO: make sure none of the variables are already in scope in the code.\n",
    "                code_list.insert(def_line + 1, ' '*whitespace + \"frame, fobj_framenode_dict, envframes_dict, frame_name_dict = add_new_frame() # messy\")\n",
    "            i = i + 1\n",
    "\n",
    "        # get modified code with Frame initialization\n",
    "        new_code = insertFrameTracking(example_meow2)\n",
    "        # THEN RUN EXEC(newcode), \n",
    "        exec(new_code)\n",
    "        self.codestring = str.join(\"\\n\", code_list)\n",
    "        "
   ]
  },
  {
   "cell_type": "markdown",
   "metadata": {},
   "source": [
    "# Trash"
   ]
  }
 ],
 "metadata": {
  "kernelspec": {
   "display_name": "Python 3.11.3 ('base')",
   "language": "python",
   "name": "python3"
  },
  "language_info": {
   "codemirror_mode": {
    "name": "ipython",
    "version": 3
   },
   "file_extension": ".py",
   "mimetype": "text/x-python",
   "name": "python",
   "nbconvert_exporter": "python",
   "pygments_lexer": "ipython3",
   "version": "3.11.3"
  },
  "orig_nbformat": 4,
  "vscode": {
   "interpreter": {
    "hash": "75641704b3da0317b82915c9f939487820f0728e1233cea988b538def389150c"
   }
  }
 },
 "nbformat": 4,
 "nbformat_minor": 2
}
