{
 "cells": [
  {
   "cell_type": "code",
   "execution_count": 3,
   "metadata": {},
   "outputs": [],
   "source": [
    "# idk where to put this lol\n",
    "# also im just messing around here\n",
    "import inspect\n",
    "import dill"
   ]
  },
  {
   "cell_type": "code",
   "execution_count": 19,
   "metadata": {},
   "outputs": [],
   "source": [
    "class Frame():\n",
    "    # I, Noemi, refer to this as a FrameNode to remove ambiguity with FrameObjects for the time being. \n",
    "    is_global = False\n",
    "\n",
    "    def __init__(self, name = None, bindings=None, parent=None):\n",
    "        self.parent = parent\n",
    "        self.children = []\n",
    "        if bindings is None:\n",
    "            self.bindings = {}\n",
    "        self.name = name\n",
    "\n",
    "    def bind(self, name, value):\n",
    "        self.bindings[name] = value # Note: this will allow for duplicate entries. need to figure out a better way to do this. \n",
    "    \n",
    "    def set_name(self, name):\n",
    "        self.name = name\n",
    "    \n",
    "    def add_child(self, child):\n",
    "        self.children.append(child)"
   ]
  },
  {
   "cell_type": "code",
   "execution_count": 26,
   "metadata": {},
   "outputs": [],
   "source": [
    "# a dictionary containing frames with associated variables in the form of a tuple: (type, name, mem loc, value)\n",
    "env_frames = {\"global\":{}}\n",
    "fobj_name_pairs = {}\n",
    "# associates a frame object to a frame node (or in the case of global, at least for the time being, \"global\" to a frame node.)\n",
    "fobj_framenode_pairs = {}\n",
    "env_mutables = {}\n",
    "cnter = 1\n",
    "\n",
    "def add_new_frame(name, variables, frame_dict = env_frames): # func should always refer to the caller\n",
    "    # if no frame nodes have been initialized, set the frame as the global frame and the root\n",
    "    if len(fobj_framenode_pairs.keys()) == 0:\n",
    "        name = \"global\"\n",
    "        fobj_framenode_pairs[name] = Frame(bindings = variables)\n",
    "        # OLD: TODO: also current_fobj not listed, fix\n",
    "        env_frames[name] = {\"name\": None, \"parent\": None, \"parent_fobj\": None, \"current_fobj\": None, \"variables\":variables}\n",
    "\n",
    "    else: \n",
    "        f_name = \"f\" + name #temp\n",
    "        curr_frame = inspect.currentframe().f_back\n",
    "        parent_frame = curr_frame.f_back\n",
    "        # TODO: why global be stupid? fix.\n",
    "        parent = fobj_framenode_pairs[parent_frame] if parent_frame in fobj_framenode_pairs else fobj_framenode_pairs[\"global\"] # frame_name_pairs[parent_frame] if parent_frame in frame_name_pairs else \"global\"\n",
    "        \n",
    "        # OLD: dictionary rep of frame associations. Use for debugging only. \n",
    "        env_frames[f_name] = {\"name\": name, \"parent\": parent, \"parent_fobj\": parent_frame, \"current_fobj\": curr_frame, \"variables\":variables}\n",
    "        # add self to the pairing dict\n",
    "        fobj_framenode_pairs[curr_frame] = Frame(name = name, bindings = variables, parent = parent)\n",
    "        # modify parent to include self as a child\n",
    "        parent.add_child(fobj_framenode_pairs[curr_frame])\n",
    "        # OLD: dictionary rep between fobj and frame\n",
    "        fobj_name_pairs[curr_frame] = name\n",
    "    return fobj_framenode_pairs, env_frames, fobj_name_pairs # messy"
   ]
  },
  {
   "cell_type": "code",
   "execution_count": 27,
   "metadata": {},
   "outputs": [
    {
     "data": {
      "text/plain": [
       "{'global': {'name': None,\n",
       "  'parent': None,\n",
       "  'parent_fobj': None,\n",
       "  'current_fobj': None,\n",
       "  'variables': [(function,\n",
       "    'D',\n",
       "    <function __main__.glob.<locals>.A.<locals>.D()>),\n",
       "   (function, 'B', <function __main__.glob.<locals>.A.<locals>.B()>),\n",
       "   (int, 'z', 7)]},\n",
       " 'fD': {'name': 'D',\n",
       "  'parent': <__main__.Frame at 0x10ac89b90>,\n",
       "  'parent_fobj': <frame at 0x10aca32e0, file '/var/folders/8l/7g3122r17kv266mlj9yyt2zm0000gq/T/ipykernel_36708/3049043479.py', line 34, code A>,\n",
       "  'current_fobj': <frame at 0x10ab135a0, file '/var/folders/8l/7g3122r17kv266mlj9yyt2zm0000gq/T/ipykernel_36708/3049043479.py', line 27, code D>,\n",
       "  'variables': [(function,\n",
       "    'B',\n",
       "    <function __main__.glob.<locals>.A.<locals>.B()>)]},\n",
       " 'fB': {'name': 'B',\n",
       "  'parent': <__main__.Frame at 0x10ac8b710>,\n",
       "  'parent_fobj': <frame at 0x10ab135a0, file '/var/folders/8l/7g3122r17kv266mlj9yyt2zm0000gq/T/ipykernel_36708/3049043479.py', line 27, code D>,\n",
       "  'current_fobj': <frame at 0x10ab13ae0, file '/var/folders/8l/7g3122r17kv266mlj9yyt2zm0000gq/T/ipykernel_36708/3049043479.py', line 21, code B>,\n",
       "  'variables': []},\n",
       " 'fC': {'name': 'C',\n",
       "  'parent': <__main__.Frame at 0x10ac89b90>,\n",
       "  'parent_fobj': <frame at 0x10aca32e0, file '/var/folders/8l/7g3122r17kv266mlj9yyt2zm0000gq/T/ipykernel_36708/3049043479.py', line 34, code A>,\n",
       "  'current_fobj': <frame at 0x10aca2e30, file '/var/folders/8l/7g3122r17kv266mlj9yyt2zm0000gq/T/ipykernel_36708/3049043479.py', line 18, code C>,\n",
       "  'variables': []}}"
      ]
     },
     "execution_count": 27,
     "metadata": {},
     "output_type": "execute_result"
    }
   ],
   "source": [
    "import dill\n",
    "import inspect\n",
    "\n",
    "#print(\"global\", inspect.currentframe())\n",
    "def glob():\n",
    "    def A():\n",
    "        z = 7\n",
    "        #print(\"AHHHH\")\n",
    "        def B():\n",
    "            y = 4\n",
    "            #print(\"B\", dill.detect.varnames(B), inspect.currentframe().f_back)\n",
    "            def C():\n",
    "                x = 5\n",
    "                #print(\"C\", inspect.currentframe().f_back)\n",
    "                locs = locals()\n",
    "                variables = [] #(type(locs[var]), var, dill.pointers.at(locs[var]), locs[var]) for var in locs]\n",
    "                fobj_framenode_pairs, env_frames, frame_name_pairs = add_new_frame(\"C\", variables)\n",
    "                return 8 + x + y + z\n",
    "            variables = [] #(type(locals()[var]), var, dill.pointers.at(locals()[var]), locals()[var]) for var in locals()]\n",
    "            fobj_framenode_pairs, env_frames, frame_name_pairs = add_new_frame(\"B\", variables)\n",
    "            return C\n",
    "        def D():\n",
    "            #print(\"C2\", inspect.currentframe().f_back)\n",
    "            locs = locals()\n",
    "            variables = [(type(locs[var]), var, locs[var]) for var in locs]\n",
    "            fobj_framenode_pairs, env_frames, frame_name_pairs = add_new_frame(\"D\", variables)\n",
    "            return B()\n",
    "        #print(\"A\", inspect.currentframe().f_back, inspect.currentframe())\n",
    "        locs = locals()\n",
    "        #variables = [(type(locs[var]), var, dill.pointers.at(locs[var]), locs[var]) for var in locs.keys()]\n",
    "        variables = []\n",
    "        variables = [(type(locs[var]), var, locs[var]) for var in locs.keys()] # TODO: check whether output of locs[var] is mutable\n",
    "        fobj_framenode_pairs, env_frames, frame_name_pairss = add_new_frame(\"A\", variables) # messy\n",
    "        return D()()\n",
    "    cat = A()\n",
    "glob()\n",
    "env_frames"
   ]
  },
  {
   "cell_type": "code",
   "execution_count": 6,
   "metadata": {},
   "outputs": [
    {
     "data": {
      "text/plain": [
       "{'global': {},\n",
       " 'fA': {'name': 'A',\n",
       "  'parent': 'Name not found',\n",
       "  'parent_fobj': <frame at 0x10a074bf0, file '/var/folders/8l/7g3122r17kv266mlj9yyt2zm0000gq/T/ipykernel_36708/1675338650.py', line 34, code glob>,\n",
       "  'current_fobj': <frame at 0x10a01d620, file '/var/folders/8l/7g3122r17kv266mlj9yyt2zm0000gq/T/ipykernel_36708/1675338650.py', line 33, code A>,\n",
       "  'variables': []},\n",
       " 'fC2': {'name': 'C2',\n",
       "  'parent': 'A',\n",
       "  'parent_fobj': <frame at 0x10a01d620, file '/var/folders/8l/7g3122r17kv266mlj9yyt2zm0000gq/T/ipykernel_36708/1675338650.py', line 33, code A>,\n",
       "  'current_fobj': <frame at 0x10988a190, file '/var/folders/8l/7g3122r17kv266mlj9yyt2zm0000gq/T/ipykernel_36708/1675338650.py', line 27, code C2>,\n",
       "  'variables': []},\n",
       " 'fB': {'name': 'B',\n",
       "  'parent': 'C2',\n",
       "  'parent_fobj': <frame at 0x10988a190, file '/var/folders/8l/7g3122r17kv266mlj9yyt2zm0000gq/T/ipykernel_36708/1675338650.py', line 27, code C2>,\n",
       "  'current_fobj': <frame at 0x10a01dc40, file '/var/folders/8l/7g3122r17kv266mlj9yyt2zm0000gq/T/ipykernel_36708/1675338650.py', line 21, code B>,\n",
       "  'variables': []},\n",
       " 'fC': {'name': 'C',\n",
       "  'parent': 'A',\n",
       "  'parent_fobj': <frame at 0x10a01d620, file '/var/folders/8l/7g3122r17kv266mlj9yyt2zm0000gq/T/ipykernel_36708/1675338650.py', line 33, code A>,\n",
       "  'current_fobj': <frame at 0x10a01d8c0, file '/var/folders/8l/7g3122r17kv266mlj9yyt2zm0000gq/T/ipykernel_36708/1675338650.py', line 18, code C>,\n",
       "  'variables': []}}"
      ]
     },
     "execution_count": 6,
     "metadata": {},
     "output_type": "execute_result"
    }
   ],
   "source": [
    "env_frames"
   ]
  },
  {
   "cell_type": "code",
   "execution_count": null,
   "metadata": {},
   "outputs": [],
   "source": [
    "#THROWING SHIT AT THE WALL\n",
    "x = 5\n",
    "def ahhh(y):\n",
    "    x = y + 4\n",
    "    #print(dir())\n",
    "    #print(inspect.trace())\n",
    "    #print(inspect.stack())\n",
    "    print(inspect.currentframe().f_back)\n",
    "    print(inspect.currentframe())\n",
    "    return 8\n",
    "#print(globals())\n",
    "#print(dir())\n",
    "#print(locals())\n",
    "#ahhh(8)\n",
    "#traceback.extract_tb()\n",
    "#frame_infos = inspect.trace()\n",
    "#print(inspect.trace())\n",
    "#ahhh(8)\n",
    "#print(len(inspect.stack()))\n",
    "#print(inspect.stack())\n",
    "#print(inspect.currentframe())\n",
    "#aaa = inspect.getframeinfo(inspect.currentframe())\n",
    "#print(type(aaa))\n",
    "#print(aaa)\n",
    "#print(inspect.getinnerframes(aaa))\n",
    "stack = inspect.stack()\n",
    "outer_frames = inspect.getouterframes(inspect.currentframe())\n",
    "inner_frames = [frame for frame in stack if frame not in outer_frames]\n",
    "print(inner_frames)\n",
    "#print(current_frame)"
   ]
  },
  {
   "cell_type": "code",
   "execution_count": null,
   "metadata": {},
   "outputs": [],
   "source": [
    "import inspect\n",
    "import copy\n",
    "import types\n",
    "import dill\n",
    "\n",
    "\n",
    "#Define a function we want to modify:\n",
    "def test():\n",
    "    print(\"Here\")\n",
    "\n",
    "#Run the function to check output\n",
    "print(\"\\n\\nRunning Function...\")\n",
    "test()\n",
    "#>>> Here\n",
    "\n",
    "#Get the source code for the test function:\n",
    "testSource2 = inspect.getsourcelines(test)[0]#\n",
    "testSource = dill.source.getsource(test)\n",
    "print(\"\\n\\ntestSource:\")\n",
    "print(testSource)\n",
    "\n",
    "\n",
    "#Take the inner part of the source code and modify it how we want:\n",
    "newtestinnersource = ''\n",
    "testSourceLines = testSource.split('\\n')\n",
    "print(\"lines\")\n",
    "print(testSourceLines)\n",
    "linenumber = 0 \n",
    "for line in testSourceLines:\n",
    "    if (linenumber > 0):\n",
    "        if (len(line[4:]) > 0):\n",
    "            newtestinnersource += line[4:] + '\\n'\n",
    "    linenumber += 1\n",
    "#newtestinnersource += 'print(\"Here2\")\\n'\n",
    "newtestinnersource += 'return 2\\n'\n",
    "#print(\"\\n\\nnewtestinnersource\")\n",
    "print(\"new\")\n",
    "print(newtestinnersource)\n",
    "\n",
    "\n",
    "#Re-assign the function's code to be a compiled version of the `innersource`\n",
    "code_obj = compile(newtestinnersource, '<string>', 'exec')\n",
    "test.__code__ = copy.deepcopy(code_obj)\n",
    "print(\"\\n\\nRunning Modified Function...\")\n",
    "a = test() #<- NOW HAS MODIFIED SOURCE CODE, AND PERFORMS NEW TASK\n",
    "#>>>Here\n",
    "#>>>Here2\n",
    "testSource2\n",
    "test.__code__\n",
    "print(\"a:\")\n",
    "print(a)\n"
   ]
  },
  {
   "cell_type": "code",
   "execution_count": 112,
   "metadata": {},
   "outputs": [
    {
     "name": "stdout",
     "output_type": "stream",
     "text": [
      "__name__\n",
      "__doc__\n",
      "__package__\n",
      "__loader__\n",
      "__spec__\n",
      "__builtin__\n",
      "__builtins__\n",
      "_ih\n",
      "_oh\n",
      "_dh\n",
      "In\n",
      "Out\n",
      "get_ipython\n",
      "exit\n",
      "quit\n",
      "open\n",
      "_\n",
      "__\n",
      "___\n",
      "sys\n",
      "os\n",
      "__vsc_ipynb_file__\n",
      "_i\n",
      "_ii\n",
      "_iii\n",
      "_i1\n",
      "A\n",
      "_i2\n",
      "inspect\n",
      "lines\n",
      "_i3\n",
      "new_code_list\n",
      "new_code\n",
      "i\n",
      "_i4\n",
      "_i5\n",
      "_i6\n",
      "_i7\n",
      "_i8\n",
      "_i9\n",
      "_i10\n",
      "_i11\n",
      "_i12\n",
      "_i13\n",
      "_i14\n",
      "_i15\n",
      "_i16\n",
      "_i17\n",
      "_i18\n",
      "_i19\n",
      "_i20\n",
      "_i21\n",
      "_i22\n",
      "y\n",
      "_i23\n",
      "_23\n",
      "_i24\n",
      "_i25\n",
      "_i26\n",
      "_i27\n",
      "cat\n",
      "_i28\n",
      "_i29\n",
      "_i30\n",
      "_i31\n",
      "_i32\n",
      "_i33\n",
      "dill\n",
      "_33\n",
      "_i34\n",
      "_34\n",
      "_i35\n",
      "_i36\n",
      "_36\n",
      "_i37\n",
      "_i38\n",
      "_38\n",
      "_i39\n",
      "_i40\n",
      "_40\n",
      "_i41\n",
      "_i42\n",
      "_42\n",
      "_i43\n",
      "_i44\n",
      "_44\n",
      "_i45\n",
      "_i46\n",
      "_46\n",
      "_i47\n",
      "_47\n",
      "_i48\n",
      "_48\n",
      "_i49\n",
      "_i50\n",
      "_50\n",
      "_i51\n",
      "_i52\n",
      "_i53\n",
      "_i54\n",
      "_i55\n",
      "_i56\n",
      "_i57\n",
      "_i58\n",
      "_i59\n",
      "_i60\n",
      "_i61\n",
      "_61\n",
      "_i62\n",
      "_62\n",
      "_i63\n",
      "_i64\n",
      "_i65\n",
      "_i66\n",
      "_i67\n",
      "_i68\n",
      "_i69\n",
      "_i70\n",
      "_i71\n",
      "_i72\n",
      "_i73\n",
      "_i74\n",
      "_i75\n",
      "_i76\n",
      "_i77\n",
      "_i78\n",
      "x\n",
      "_78\n",
      "_i79\n",
      "_79\n",
      "_i80\n",
      "_i81\n",
      "_i82\n",
      "env_frames\n",
      "env_mutables\n",
      "add_new_frame\n",
      "_i83\n",
      "_i84\n",
      "_i85\n",
      "_i86\n",
      "_i87\n",
      "_i88\n",
      "_i89\n",
      "_i90\n",
      "_i91\n",
      "_i92\n",
      "_i93\n",
      "_i94\n",
      "_i95\n",
      "_i96\n",
      "_i97\n",
      "_i98\n",
      "_i99\n",
      "_i100\n",
      "_i101\n",
      "_i102\n",
      "glob\n",
      "_i103\n",
      "_i104\n",
      "_i105\n",
      "_i106\n",
      "_i107\n",
      "_i108\n",
      "_i109\n",
      "_i110\n",
      "g\n",
      "_i111\n",
      "_i112\n"
     ]
    }
   ],
   "source": [
    "x = 5\n",
    "def g():\n",
    "    return 5\n",
    "for i in locals():\n",
    "    print(i)"
   ]
  },
  {
   "cell_type": "code",
   "execution_count": 71,
   "metadata": {},
   "outputs": [
    {
     "name": "stdout",
     "output_type": "stream",
     "text": [
      "x is  5\n",
      "{'x': 5, 'y': [7, 2, 1, 3]}\n",
      "(('x', 'y', 'ref'), ())\n",
      "4629236608\n"
     ]
    }
   ],
   "source": [
    "def A():\n",
    "    x = 5\n",
    "    print(\"x is \", str(x))\n",
    "    print(inspect.currentframe().f_locals) # !! nestedcode, !!varnames, reference, dir, locals, f_back\n",
    "    print(dill.detect.varnames(A)) # returns a tuple (local vars, local vars referrenced by nested functions) \n",
    "    ref = dill.pointers.reference(x)\n",
    "    print(ref)\n",
    "    return x\n",
    "cat = A()"
   ]
  },
  {
   "cell_type": "code",
   "execution_count": 79,
   "metadata": {},
   "outputs": [
    {
     "data": {
      "text/plain": [
       "False"
      ]
     },
     "execution_count": 79,
     "metadata": {},
     "output_type": "execute_result"
    }
   ],
   "source": [
    "x = [6]\n",
    "x is object"
   ]
  },
  {
   "cell_type": "code",
   "execution_count": 81,
   "metadata": {},
   "outputs": [
    {
     "name": "stdout",
     "output_type": "stream",
     "text": [
      "5\n"
     ]
    }
   ],
   "source": [
    "x = 5\n",
    "y = x\n",
    "x = 8\n",
    "print(y)"
   ]
  },
  {
   "cell_type": "code",
   "execution_count": 29,
   "metadata": {},
   "outputs": [
    {
     "name": "stdout",
     "output_type": "stream",
     "text": [
      "OUTPUT BEFORE:\n",
      "x is  5\n",
      "new code\n",
      "def A():\n",
      "    print(\"jadbjhwjd\")\n",
      "    print(\"x is \", str(x))\n",
      "    return x\n",
      "\n",
      "OUTPUT:\n",
      "hello\n"
     ]
    }
   ],
   "source": [
    "print(\"OUTPUT BEFORE:\")\n",
    "A()\n",
    "new_code_list = inspect.getsourcelines(A)[0]\n",
    "#new_code_list = lines #handle_def(save_frame, lines)\n",
    "new_code = \"\" # new_code_list[0] \n",
    "new_code_list[1] = '    print(\"jadbjhwjd\")\\n'\n",
    "#print(new_code_list)\n",
    "i = 0\n",
    "while i < len(new_code_list):\n",
    "    new_code += new_code_list[i]\n",
    "    #new_code += line + '\\n'\n",
    "    i += 1\n",
    "#new_code += '\\n'\n",
    "print(\"new code\")\n",
    "###\n",
    "#new_code = dill.source.getsource(A, \"A\")\n",
    "print(new_code)\n",
    "#myast = ast.parse(new_code)\n",
    "#code_obj = compile(myast, 'mymodule', 'exec')\n",
    "#code_obj = compile(new_code, '<string>', 'exec')\n",
    "print(\"OUTPUT:\")\n",
    "exec(\"\"\"\n",
    "def A():\n",
    "    print(\"hello\")\n",
    "y = 7\n",
    "A()\"\"\")"
   ]
  },
  {
   "cell_type": "code",
   "execution_count": null,
   "metadata": {},
   "outputs": [],
   "source": [
    "import dill\n",
    "def environment_dict(func, start_dict = {}):\n",
    "    frame=inspect.currentframe().f_back\n",
    "    func.__frame = frame # location in which the function was defined (make sure this is synonymous from where it is called from?? prob not)\n",
    "    return func\n",
    "\n",
    "# TODO: do this for lambda as well\n",
    "def handle_def(decorator, code_list):\n",
    "    \"\"\"this function recursively handles define statements within functions by adding a line at the end of the \n",
    "    def that adds some lines of code to the function before it returns.\"\"\"\n",
    "    # does this by finding a 'def' statement, then counting the whitespaces of each following line until one has less than or equal to the amount\n",
    "    # the def func had. Then inserts the new decorator line right before that.\n",
    "    func_name = None\n",
    "    def_whitespace_n = 0\n",
    "    i = 0\n",
    "    # find the first define statement.\n",
    "    while not func_name or i >= len(code_list):\n",
    "        if code_list[i].lstrip(' ')[:4] == \"def \":\n",
    "            func_name = code_list[i].lstrip(' ')[4:].split('(', 1)[0]\n",
    "            def_whitespace_n = len(code_list[i]) - len(code_list[i].lstrip(' '))\n",
    "        i = i + 1\n",
    "    # if something was in a define statement, handle that.\n",
    "    if func_name:\n",
    "        # make line that will come after the define statement's end\n",
    "        new_line = ' '*def_whitespace_n + func_name + '=' + decorator.__code__.co_name + '(' + func_name + ')' + '\\n'\n",
    "        # \n",
    "        # TODO: check to make sure this check changes as code_list gets bigger\n",
    "        #\n",
    "        while i < len(code_list):\n",
    "            # check to see if the amount of preceeding whitespace in the define statement is greater than or equal to the amount in the current line\n",
    "            if def_whitespace_n >= (len(code_list[i]) - len(code_list[i].lstrip(' '))):\n",
    "                code_list.insert(i, new_line)\n",
    "                return code_list\n",
    "            # check to see if a function was defined within the function (if so do recursion)\n",
    "            elif code_list[i].lstrip(' ')[:4] == \"def \":\n",
    "                # replace that part of the code list with the new code list\n",
    "                code_list[i - 1:] = handle_def(decorator, code_list[i - 1:]) # i - 1 so we include the def statement\n",
    "            i = i + 1  \n",
    "        code_list.append(new_line)  \n",
    "    return code_list"
   ]
  },
  {
   "cell_type": "code",
   "execution_count": null,
   "metadata": {},
   "outputs": [
    {
     "data": {
      "text/plain": [
       "dict_keys(['__name__', '__doc__', '__package__', '__loader__', '__spec__', '__builtin__', '__builtins__', '_ih', '_oh', '_dh', 'In', 'Out', 'get_ipython', 'exit', 'quit', 'open', '_', '__', '___', 'sys', 'os', '__vsc_ipynb_file__', '_i', '_ii', '_iii', '_i1', 'traceback', 'inspect', '_i2', 'x', 'test', '_i3', 'locs', '_i4', '_4', '_i5', '_i6', '_6', '_i7'])"
      ]
     },
     "execution_count": 7,
     "metadata": {},
     "output_type": "execute_result"
    }
   ],
   "source": [
    "locs.keys()"
   ]
  },
  {
   "cell_type": "markdown",
   "metadata": {},
   "source": [
    "# typing casting to try to get a valid Traceback"
   ]
  },
  {
   "cell_type": "code",
   "execution_count": null,
   "metadata": {},
   "outputs": [],
   "source": [
    "import types\n",
    "import typing"
   ]
  },
  {
   "cell_type": "code",
   "execution_count": null,
   "metadata": {},
   "outputs": [
    {
     "ename": "AttributeError",
     "evalue": "'Traceback' object has no attribute 'tb_lineno'",
     "output_type": "error",
     "traceback": [
      "\u001b[0;31m---------------------------------------------------------------------------\u001b[0m",
      "\u001b[0;31mAttributeError\u001b[0m                            Traceback (most recent call last)",
      "Cell \u001b[0;32mIn[52], line 3\u001b[0m\n\u001b[1;32m      1\u001b[0m \u001b[38;5;124;03m\"\"\"FrameInfo(frame=<frame at 0x106e498a0, file '/var/folders/8l/7g3122r17kv266mlj9yyt2zm0000gq/T/ipykernel_1031/310886205.py', line 19, code <module>>, filename='/var/folders/8l/7g3122r17kv266mlj9yyt2zm0000gq/T/ipykernel_1031/310886205.py', lineno=19, function='<module>', code_context=['stack = inspect.stack()\\n'], index=0, positions=Positions(lineno=19, end_lineno=19, col_offset=8, end_col_offset=23)),\"\"\"\u001b[39;00m\n\u001b[1;32m      2\u001b[0m test2 \u001b[38;5;241m=\u001b[39m typing\u001b[38;5;241m.\u001b[39mcast(types\u001b[38;5;241m.\u001b[39mTracebackType, inspect\u001b[38;5;241m.\u001b[39mgetframeinfo(inspect\u001b[38;5;241m.\u001b[39mcurrentframe()))\n\u001b[0;32m----> 3\u001b[0m test2\u001b[38;5;241m.\u001b[39mf_lineno \u001b[38;5;241m=\u001b[39m test2\u001b[38;5;241m.\u001b[39mtb_lineno\n",
      "\u001b[0;31mAttributeError\u001b[0m: 'Traceback' object has no attribute 'tb_lineno'"
     ]
    }
   ],
   "source": [
    "\"\"\"FrameInfo(frame=<frame at 0x106e498a0, file '/var/folders/8l/7g3122r17kv266mlj9yyt2zm0000gq/T/ipykernel_1031/310886205.py', line 19, code <module>>, filename='/var/folders/8l/7g3122r17kv266mlj9yyt2zm0000gq/T/ipykernel_1031/310886205.py', lineno=19, function='<module>', code_context=['stack = inspect.stack()\\n'], index=0, positions=Positions(lineno=19, end_lineno=19, col_offset=8, end_col_offset=23)),\"\"\"\n",
    "test2 = typing.cast(types.TracebackType, inspect.getframeinfo(inspect.currentframe()))\n",
    "test2.f_lineno = test2.tb_lineno\n",
    "#test = types.TracebackType(test2, inspect.currentframe(), 0, 19)\n"
   ]
  },
  {
   "cell_type": "code",
   "execution_count": null,
   "metadata": {},
   "outputs": [],
   "source": [
    "type(test2)\n",
    "inspect.getinnerframes(typing.cast(types.TracebackType, inspect.getframeinfo(inspect.currentframe())))"
   ]
  },
  {
   "cell_type": "code",
   "execution_count": null,
   "metadata": {},
   "outputs": [
    {
     "ename": "AttributeError",
     "evalue": "'Traceback' object has no attribute 'tb_frame'",
     "output_type": "error",
     "traceback": [
      "\u001b[0;31m---------------------------------------------------------------------------\u001b[0m",
      "\u001b[0;31mAttributeError\u001b[0m                            Traceback (most recent call last)",
      "Cell \u001b[0;32mIn[53], line 1\u001b[0m\n\u001b[0;32m----> 1\u001b[0m traceback\u001b[38;5;241m.\u001b[39mformat_tb(inspect\u001b[38;5;241m.\u001b[39mgetframeinfo(inspect\u001b[38;5;241m.\u001b[39mcurrentframe()))\n",
      "File \u001b[0;32m~/anaconda3/lib/python3.11/traceback.py:59\u001b[0m, in \u001b[0;36mformat_tb\u001b[0;34m(tb, limit)\u001b[0m\n\u001b[1;32m     57\u001b[0m \u001b[39mdef\u001b[39;00m \u001b[39mformat_tb\u001b[39m(tb, limit\u001b[39m=\u001b[39m\u001b[39mNone\u001b[39;00m):\n\u001b[1;32m     58\u001b[0m \u001b[39m    \u001b[39m\u001b[39m\"\"\"A shorthand for 'format_list(extract_tb(tb, limit))'.\"\"\"\u001b[39;00m\n\u001b[0;32m---> 59\u001b[0m     \u001b[39mreturn\u001b[39;00m extract_tb(tb, limit\u001b[39m=\u001b[39mlimit)\u001b[39m.\u001b[39mformat()\n",
      "File \u001b[0;32m~/anaconda3/lib/python3.11/traceback.py:74\u001b[0m, in \u001b[0;36mextract_tb\u001b[0;34m(tb, limit)\u001b[0m\n\u001b[1;32m     61\u001b[0m \u001b[39mdef\u001b[39;00m \u001b[39mextract_tb\u001b[39m(tb, limit\u001b[39m=\u001b[39m\u001b[39mNone\u001b[39;00m):\n\u001b[1;32m     62\u001b[0m \u001b[39m    \u001b[39m\u001b[39m\"\"\"\u001b[39;00m\n\u001b[1;32m     63\u001b[0m \u001b[39m    Return a StackSummary object representing a list of\u001b[39;00m\n\u001b[1;32m     64\u001b[0m \u001b[39m    pre-processed entries from traceback.\u001b[39;00m\n\u001b[0;32m   (...)\u001b[0m\n\u001b[1;32m     72\u001b[0m \u001b[39m    whitespace stripped; if the source is not available it is None.\u001b[39;00m\n\u001b[1;32m     73\u001b[0m \u001b[39m    \"\"\"\u001b[39;00m\n\u001b[0;32m---> 74\u001b[0m     \u001b[39mreturn\u001b[39;00m StackSummary\u001b[39m.\u001b[39m_extract_from_extended_frame_gen(\n\u001b[1;32m     75\u001b[0m         _walk_tb_with_full_positions(tb), limit\u001b[39m=\u001b[39mlimit)\n",
      "File \u001b[0;32m~/anaconda3/lib/python3.11/traceback.py:416\u001b[0m, in \u001b[0;36mStackSummary._extract_from_extended_frame_gen\u001b[0;34m(klass, frame_gen, limit, lookup_lines, capture_locals)\u001b[0m\n\u001b[1;32m    414\u001b[0m result \u001b[39m=\u001b[39m klass()\n\u001b[1;32m    415\u001b[0m fnames \u001b[39m=\u001b[39m \u001b[39mset\u001b[39m()\n\u001b[0;32m--> 416\u001b[0m \u001b[39mfor\u001b[39;00m f, (lineno, end_lineno, colno, end_colno) \u001b[39min\u001b[39;00m frame_gen:\n\u001b[1;32m    417\u001b[0m     co \u001b[39m=\u001b[39m f\u001b[39m.\u001b[39mf_code\n\u001b[1;32m    418\u001b[0m     filename \u001b[39m=\u001b[39m co\u001b[39m.\u001b[39mco_filename\n",
      "File \u001b[0;32m~/anaconda3/lib/python3.11/traceback.py:353\u001b[0m, in \u001b[0;36m_walk_tb_with_full_positions\u001b[0;34m(tb)\u001b[0m\n\u001b[1;32m    349\u001b[0m \u001b[39mdef\u001b[39;00m \u001b[39m_walk_tb_with_full_positions\u001b[39m(tb):\n\u001b[1;32m    350\u001b[0m     \u001b[39m# Internal version of walk_tb that yields full code positions including\u001b[39;00m\n\u001b[1;32m    351\u001b[0m     \u001b[39m# end line and column information.\u001b[39;00m\n\u001b[1;32m    352\u001b[0m     \u001b[39mwhile\u001b[39;00m tb \u001b[39mis\u001b[39;00m \u001b[39mnot\u001b[39;00m \u001b[39mNone\u001b[39;00m:\n\u001b[0;32m--> 353\u001b[0m         positions \u001b[39m=\u001b[39m _get_code_position(tb\u001b[39m.\u001b[39mtb_frame\u001b[39m.\u001b[39mf_code, tb\u001b[39m.\u001b[39mtb_lasti)\n\u001b[1;32m    354\u001b[0m         \u001b[39m# Yield tb_lineno when co_positions does not have a line number to\u001b[39;00m\n\u001b[1;32m    355\u001b[0m         \u001b[39m# maintain behavior with walk_tb.\u001b[39;00m\n\u001b[1;32m    356\u001b[0m         \u001b[39mif\u001b[39;00m positions[\u001b[39m0\u001b[39m] \u001b[39mis\u001b[39;00m \u001b[39mNone\u001b[39;00m:\n",
      "\u001b[0;31mAttributeError\u001b[0m: 'Traceback' object has no attribute 'tb_frame'"
     ]
    }
   ],
   "source": [
    "traceback.format_tb(inspect.getframeinfo(inspect.currentframe()))"
   ]
  }
 ],
 "metadata": {
  "kernelspec": {
   "display_name": "Python 3.11.3 ('base')",
   "language": "python",
   "name": "python3"
  },
  "language_info": {
   "codemirror_mode": {
    "name": "ipython",
    "version": 3
   },
   "file_extension": ".py",
   "mimetype": "text/x-python",
   "name": "python",
   "nbconvert_exporter": "python",
   "pygments_lexer": "ipython3",
   "version": "3.11.3"
  },
  "orig_nbformat": 4,
  "vscode": {
   "interpreter": {
    "hash": "75641704b3da0317b82915c9f939487820f0728e1233cea988b538def389150c"
   }
  }
 },
 "nbformat": 4,
 "nbformat_minor": 2
}
