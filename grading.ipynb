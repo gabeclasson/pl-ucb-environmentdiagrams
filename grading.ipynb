{
 "cells": [
  {
   "cell_type": "code",
   "execution_count": null,
   "metadata": {},
   "outputs": [],
   "source": [
    "# idk where to put this lol\n",
    "# also im just messing around here"
   ]
  },
  {
   "cell_type": "code",
   "execution_count": 1,
   "metadata": {},
   "outputs": [],
   "source": [
    "import traceback\n",
    "import inspect"
   ]
  },
  {
   "cell_type": "code",
   "execution_count": 18,
   "metadata": {},
   "outputs": [
    {
     "name": "stdout",
     "output_type": "stream",
     "text": [
      "<frame at 0x1107b3d80, file '/var/folders/8l/7g3122r17kv266mlj9yyt2zm0000gq/T/ipykernel_39313/229811572.py', line 17, code <module>>\n",
      "<frame at 0x110721480, file '/var/folders/8l/7g3122r17kv266mlj9yyt2zm0000gq/T/ipykernel_39313/229811572.py', line 8, code ahhh>\n",
      "<frame at 0x11087c250, file '/var/folders/8l/7g3122r17kv266mlj9yyt2zm0000gq/T/ipykernel_39313/229811572.py', line 20, code <module>>\n",
      "Traceback(filename='/var/folders/8l/7g3122r17kv266mlj9yyt2zm0000gq/T/ipykernel_39313/229811572.py', lineno=21, function='<module>', code_context=['aaa = inspect.getframeinfo(inspect.currentframe())\\n'], index=0, positions=Positions(lineno=21, end_lineno=21, col_offset=6, end_col_offset=50))\n"
     ]
    },
    {
     "ename": "AttributeError",
     "evalue": "'Traceback' object has no attribute 'f_lineno'",
     "output_type": "error",
     "traceback": [
      "\u001b[0;31m---------------------------------------------------------------------------\u001b[0m",
      "\u001b[0;31mAttributeError\u001b[0m                            Traceback (most recent call last)",
      "Cell \u001b[0;32mIn[18], line 23\u001b[0m\n\u001b[1;32m     21\u001b[0m aaa \u001b[38;5;241m=\u001b[39m inspect\u001b[38;5;241m.\u001b[39mgetframeinfo(inspect\u001b[38;5;241m.\u001b[39mcurrentframe())\n\u001b[1;32m     22\u001b[0m \u001b[38;5;28mprint\u001b[39m(aaa)\n\u001b[0;32m---> 23\u001b[0m \u001b[38;5;28mprint\u001b[39m(inspect\u001b[38;5;241m.\u001b[39mgetinnerframes(aaa))\n",
      "File \u001b[0;32m~/anaconda3/lib/python3.11/inspect.py:1743\u001b[0m, in \u001b[0;36mgetinnerframes\u001b[0;34m(tb, context)\u001b[0m\n\u001b[1;32m   1741\u001b[0m framelist \u001b[39m=\u001b[39m []\n\u001b[1;32m   1742\u001b[0m \u001b[39mwhile\u001b[39;00m tb:\n\u001b[0;32m-> 1743\u001b[0m     traceback_info \u001b[39m=\u001b[39m getframeinfo(tb, context)\n\u001b[1;32m   1744\u001b[0m     frameinfo \u001b[39m=\u001b[39m (tb\u001b[39m.\u001b[39mtb_frame,) \u001b[39m+\u001b[39m traceback_info\n\u001b[1;32m   1745\u001b[0m     framelist\u001b[39m.\u001b[39mappend(FrameInfo(\u001b[39m*\u001b[39mframeinfo, positions\u001b[39m=\u001b[39mtraceback_info\u001b[39m.\u001b[39mpositions))\n",
      "File \u001b[0;32m~/anaconda3/lib/python3.11/inspect.py:1675\u001b[0m, in \u001b[0;36mgetframeinfo\u001b[0;34m(frame, context)\u001b[0m\n\u001b[1;32m   1673\u001b[0m     frame \u001b[39m=\u001b[39m frame\u001b[39m.\u001b[39mtb_frame\n\u001b[1;32m   1674\u001b[0m \u001b[39melse\u001b[39;00m:\n\u001b[0;32m-> 1675\u001b[0m     lineno \u001b[39m=\u001b[39m frame\u001b[39m.\u001b[39mf_lineno\n\u001b[1;32m   1676\u001b[0m     positions \u001b[39m=\u001b[39m _get_code_position(frame\u001b[39m.\u001b[39mf_code, frame\u001b[39m.\u001b[39mf_lasti)\n\u001b[1;32m   1678\u001b[0m \u001b[39mif\u001b[39;00m positions[\u001b[39m0\u001b[39m] \u001b[39mis\u001b[39;00m \u001b[39mNone\u001b[39;00m:\n",
      "\u001b[0;31mAttributeError\u001b[0m: 'Traceback' object has no attribute 'f_lineno'"
     ]
    }
   ],
   "source": [
    "x = 5\n",
    "def ahhh(y):\n",
    "    x = y + 4\n",
    "    #print(dir())\n",
    "    #print(inspect.trace())\n",
    "    #print(inspect.stack())\n",
    "    print(inspect.currentframe().f_back)\n",
    "    print(inspect.currentframe())\n",
    "    return 8\n",
    "#print(globals())\n",
    "#print(dir())\n",
    "#print(locals())\n",
    "#ahhh(8)\n",
    "#traceback.extract_tb()\n",
    "#frame_infos = inspect.trace()\n",
    "#print(inspect.trace())\n",
    "ahhh(8)\n",
    "#print(len(inspect.stack()))\n",
    "#print(inspect.stack())\n",
    "print(inspect.currentframe())\n",
    "aaa = inspect.getframeinfo(inspect.currentframe())\n",
    "print(aaa)\n",
    "print(inspect.getinnerframes(aaa))"
   ]
  }
 ],
 "metadata": {
  "kernelspec": {
   "display_name": "Python 3.11.3 ('base')",
   "language": "python",
   "name": "python3"
  },
  "language_info": {
   "codemirror_mode": {
    "name": "ipython",
    "version": 3
   },
   "file_extension": ".py",
   "mimetype": "text/x-python",
   "name": "python",
   "nbconvert_exporter": "python",
   "pygments_lexer": "ipython3",
   "version": "3.11.3"
  },
  "orig_nbformat": 4,
  "vscode": {
   "interpreter": {
    "hash": "75641704b3da0317b82915c9f939487820f0728e1233cea988b538def389150c"
   }
  }
 },
 "nbformat": 4,
 "nbformat_minor": 2
}
