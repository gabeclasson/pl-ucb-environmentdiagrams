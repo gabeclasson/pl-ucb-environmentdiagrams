{
 "cells": [
  {
   "cell_type": "code",
   "execution_count": null,
   "metadata": {},
   "outputs": [],
   "source": [
    "# idk where to put this lol\n",
    "# also im just messing around here"
   ]
  },
  {
   "cell_type": "code",
   "execution_count": null,
   "metadata": {},
   "outputs": [],
   "source": [
    "import traceback\n",
    "import inspect"
   ]
  },
  {
   "cell_type": "code",
   "execution_count": null,
   "metadata": {},
   "outputs": [
    {
     "name": "stdout",
     "output_type": "stream",
     "text": [
      "[FrameInfo(frame=<frame at 0x106e4b380, file '/var/folders/8l/7g3122r17kv266mlj9yyt2zm0000gq/T/ipykernel_1031/1460007230.py', line 25, code <module>>, filename='/var/folders/8l/7g3122r17kv266mlj9yyt2zm0000gq/T/ipykernel_1031/1460007230.py', lineno=25, function='<module>', code_context=['stack = inspect.stack()\\n'], index=0, positions=Positions(lineno=25, end_lineno=25, col_offset=8, end_col_offset=23)), FrameInfo(frame=<frame at 0x106e51360, file '/Users/Noemi/anaconda3/lib/python3.11/site-packages/IPython/core/interactiveshell.py', line 3530, code run_code>, filename='/Users/Noemi/anaconda3/lib/python3.11/site-packages/IPython/core/interactiveshell.py', lineno=3505, function='run_code', code_context=['                    exec(code_obj, self.user_global_ns, self.user_ns)\\n'], index=0, positions=Positions(lineno=3505, end_lineno=3505, col_offset=20, end_col_offset=69))]\n"
     ]
    }
   ],
   "source": [
    "#THROWING SHIT AT THE WALL\n",
    "x = 5\n",
    "def ahhh(y):\n",
    "    x = y + 4\n",
    "    #print(dir())\n",
    "    #print(inspect.trace())\n",
    "    #print(inspect.stack())\n",
    "    print(inspect.currentframe().f_back)\n",
    "    print(inspect.currentframe())\n",
    "    return 8\n",
    "#print(globals())\n",
    "#print(dir())\n",
    "#print(locals())\n",
    "#ahhh(8)\n",
    "#traceback.extract_tb()\n",
    "#frame_infos = inspect.trace()\n",
    "#print(inspect.trace())\n",
    "#ahhh(8)\n",
    "#print(len(inspect.stack()))\n",
    "#print(inspect.stack())\n",
    "#print(inspect.currentframe())\n",
    "#aaa = inspect.getframeinfo(inspect.currentframe())\n",
    "#print(type(aaa))\n",
    "#print(aaa)\n",
    "#print(inspect.getinnerframes(aaa))\n",
    "stack = inspect.stack()\n",
    "outer_frames = inspect.getouterframes(inspect.currentframe())\n",
    "inner_frames = [frame for frame in stack if frame not in outer_frames]\n",
    "print(inner_frames)\n",
    "#print(current_frame)"
   ]
  },
  {
   "cell_type": "code",
   "execution_count": 35,
   "metadata": {},
   "outputs": [
    {
     "name": "stdout",
     "output_type": "stream",
     "text": [
      "1\n",
      "[FrameInfo(frame=<frame at 0x106f50200, file '/var/folders/8l/7g3122r17kv266mlj9yyt2zm0000gq/T/ipykernel_1031/82531716.py', line 8, code covid>, filename='/var/folders/8l/7g3122r17kv266mlj9yyt2zm0000gq/T/ipykernel_1031/82531716.py', lineno=4, function='covid', code_context=['    stack = inspect.stack()\\n'], index=0, positions=Positions(lineno=4, end_lineno=4, col_offset=12, end_col_offset=27))]\n",
      "wehjfbhjewfbjhwefhjb\n",
      "<frame at 0x106f50200, file '/var/folders/8l/7g3122r17kv266mlj9yyt2zm0000gq/T/ipykernel_1031/82531716.py', line 10, code covid>\n",
      "2\n",
      "[FrameInfo(frame=<frame at 0x105440f40, file '/var/folders/8l/7g3122r17kv266mlj9yyt2zm0000gq/T/ipykernel_1031/82531716.py', line 19, code <module>>, filename='/var/folders/8l/7g3122r17kv266mlj9yyt2zm0000gq/T/ipykernel_1031/82531716.py', lineno=19, function='<module>', code_context=['stack = inspect.stack()\\n'], index=0, positions=Positions(lineno=19, end_lineno=19, col_offset=8, end_col_offset=23)), FrameInfo(frame=<frame at 0x106e518b0, file '/Users/Noemi/anaconda3/lib/python3.11/site-packages/IPython/core/interactiveshell.py', line 3530, code run_code>, filename='/Users/Noemi/anaconda3/lib/python3.11/site-packages/IPython/core/interactiveshell.py', lineno=3505, function='run_code', code_context=['                    exec(code_obj, self.user_global_ns, self.user_ns)\\n'], index=0, positions=Positions(lineno=3505, end_lineno=3505, col_offset=20, end_col_offset=69))]\n",
      "[FrameInfo(frame=<frame at 0x106ebac40, file '/var/folders/8l/7g3122r17kv266mlj9yyt2zm0000gq/T/ipykernel_1031/82531716.py', line 20, code <module>>, filename='/var/folders/8l/7g3122r17kv266mlj9yyt2zm0000gq/T/ipykernel_1031/82531716.py', lineno=20, function='<module>', code_context=['outer_frames = inspect.getouterframes(inspect.currentframe())\\n'], index=0, positions=Positions(lineno=20, end_lineno=20, col_offset=15, end_col_offset=61)), FrameInfo(frame=<frame at 0x106e50040, file '/Users/Noemi/anaconda3/lib/python3.11/site-packages/IPython/core/interactiveshell.py', line 3530, code run_code>, filename='/Users/Noemi/anaconda3/lib/python3.11/site-packages/IPython/core/interactiveshell.py', lineno=3505, function='run_code', code_context=['                    exec(code_obj, self.user_global_ns, self.user_ns)\\n'], index=0, positions=Positions(lineno=3505, end_lineno=3505, col_offset=20, end_col_offset=69)), FrameInfo(frame=<frame at 0x106ed0460, file '/Users/Noemi/anaconda3/lib/python3.11/site-packages/IPython/core/interactiveshell.py', line 3445, code run_ast_nodes>, filename='/Users/Noemi/anaconda3/lib/python3.11/site-packages/IPython/core/interactiveshell.py', lineno=3445, function='run_ast_nodes', code_context=['                if await self.run_code(code, result, async_=asy):\\n'], index=0, positions=Positions(lineno=3445, end_lineno=3445, col_offset=19, end_col_offset=64)), FrameInfo(frame=<frame at 0x105411840, file '/Users/Noemi/anaconda3/lib/python3.11/site-packages/IPython/core/interactiveshell.py', line 3266, code run_cell_async>, filename='/Users/Noemi/anaconda3/lib/python3.11/site-packages/IPython/core/interactiveshell.py', lineno=3266, function='run_cell_async', code_context=['                has_raised = await self.run_ast_nodes(code_ast.body, cell_name,\\n'], index=0, positions=Positions(lineno=3266, end_lineno=3267, col_offset=29, end_col_offset=85)), FrameInfo(frame=<frame at 0x106e5c640, file '/Users/Noemi/anaconda3/lib/python3.11/site-packages/IPython/core/async_helpers.py', line 129, code _pseudo_sync_runner>, filename='/Users/Noemi/anaconda3/lib/python3.11/site-packages/IPython/core/async_helpers.py', lineno=129, function='_pseudo_sync_runner', code_context=['        coro.send(None)\\n'], index=0, positions=Positions(lineno=129, end_lineno=129, col_offset=8, end_col_offset=23)), FrameInfo(frame=<frame at 0x106d1e0c0, file '/Users/Noemi/anaconda3/lib/python3.11/site-packages/IPython/core/interactiveshell.py', line 3061, code _run_cell>, filename='/Users/Noemi/anaconda3/lib/python3.11/site-packages/IPython/core/interactiveshell.py', lineno=3061, function='_run_cell', code_context=['            result = runner(coro)\\n'], index=0, positions=Positions(lineno=3061, end_lineno=3061, col_offset=21, end_col_offset=33)), FrameInfo(frame=<frame at 0x106e8c940, file '/Users/Noemi/anaconda3/lib/python3.11/site-packages/IPython/core/interactiveshell.py', line 3006, code run_cell>, filename='/Users/Noemi/anaconda3/lib/python3.11/site-packages/IPython/core/interactiveshell.py', lineno=3006, function='run_cell', code_context=['            result = self._run_cell(\\n'], index=0, positions=Positions(lineno=3006, end_lineno=3008, col_offset=21, end_col_offset=13)), FrameInfo(frame=<frame at 0x10631fac0, file '/Users/Noemi/anaconda3/lib/python3.11/site-packages/ipykernel/zmqshell.py', line 531, code run_cell>, filename='/Users/Noemi/anaconda3/lib/python3.11/site-packages/ipykernel/zmqshell.py', lineno=531, function='run_cell', code_context=['        return super().run_cell(*args, **kwargs)\\n'], index=0, positions=Positions(lineno=531, end_lineno=531, col_offset=15, end_col_offset=48)), FrameInfo(frame=<frame at 0x106ed0300, file '/Users/Noemi/anaconda3/lib/python3.11/site-packages/ipykernel/ipkernel.py', line 411, code do_execute>, filename='/Users/Noemi/anaconda3/lib/python3.11/site-packages/ipykernel/ipkernel.py', lineno=411, function='do_execute', code_context=['                    res = shell.run_cell(\\n'], index=0, positions=Positions(lineno=411, end_lineno=416, col_offset=26, end_col_offset=21)), FrameInfo(frame=<frame at 0x106d1e5c0, file '/Users/Noemi/anaconda3/lib/python3.11/site-packages/ipykernel/kernelbase.py', line 729, code execute_request>, filename='/Users/Noemi/anaconda3/lib/python3.11/site-packages/ipykernel/kernelbase.py', lineno=729, function='execute_request', code_context=['            reply_content = await reply_content\\n'], index=0, positions=Positions(lineno=729, end_lineno=729, col_offset=28, end_col_offset=47)), FrameInfo(frame=<frame at 0x106f447c0, file '/Users/Noemi/anaconda3/lib/python3.11/site-packages/ipykernel/kernelbase.py', line 406, code dispatch_shell>, filename='/Users/Noemi/anaconda3/lib/python3.11/site-packages/ipykernel/kernelbase.py', lineno=406, function='dispatch_shell', code_context=['                    await result\\n'], index=0, positions=Positions(lineno=406, end_lineno=406, col_offset=20, end_col_offset=32)), FrameInfo(frame=<frame at 0x106f60ba0, file '/Users/Noemi/anaconda3/lib/python3.11/site-packages/ipykernel/kernelbase.py', line 499, code process_one>, filename='/Users/Noemi/anaconda3/lib/python3.11/site-packages/ipykernel/kernelbase.py', lineno=499, function='process_one', code_context=['        await dispatch(*args)\\n'], index=0, positions=Positions(lineno=499, end_lineno=499, col_offset=8, end_col_offset=29)), FrameInfo(frame=<frame at 0x105a033d0, file '/Users/Noemi/anaconda3/lib/python3.11/site-packages/ipykernel/kernelbase.py', line 510, code dispatch_queue>, filename='/Users/Noemi/anaconda3/lib/python3.11/site-packages/ipykernel/kernelbase.py', lineno=510, function='dispatch_queue', code_context=['                await self.process_one()\\n'], index=0, positions=Positions(lineno=510, end_lineno=510, col_offset=16, end_col_offset=40)), FrameInfo(frame=<frame at 0x106f50ba0, file '/Users/Noemi/anaconda3/lib/python3.11/asyncio/events.py', line 80, code _run>, filename='/Users/Noemi/anaconda3/lib/python3.11/asyncio/events.py', lineno=80, function='_run', code_context=['            self._context.run(self._callback, *self._args)\\n'], index=0, positions=Positions(lineno=80, end_lineno=80, col_offset=12, end_col_offset=58)), FrameInfo(frame=<frame at 0x106f70040, file '/Users/Noemi/anaconda3/lib/python3.11/asyncio/base_events.py', line 1922, code _run_once>, filename='/Users/Noemi/anaconda3/lib/python3.11/asyncio/base_events.py', lineno=1922, function='_run_once', code_context=['                handle._run()\\n'], index=0, positions=Positions(lineno=1922, end_lineno=1922, col_offset=16, end_col_offset=29)), FrameInfo(frame=<frame at 0x106d07040, file '/Users/Noemi/anaconda3/lib/python3.11/asyncio/base_events.py', line 607, code run_forever>, filename='/Users/Noemi/anaconda3/lib/python3.11/asyncio/base_events.py', lineno=607, function='run_forever', code_context=['                self._run_once()\\n'], index=0, positions=Positions(lineno=607, end_lineno=607, col_offset=16, end_col_offset=32)), FrameInfo(frame=<frame at 0x106d071c0, file '/Users/Noemi/anaconda3/lib/python3.11/site-packages/tornado/platform/asyncio.py', line 215, code start>, filename='/Users/Noemi/anaconda3/lib/python3.11/site-packages/tornado/platform/asyncio.py', lineno=215, function='start', code_context=['            self.asyncio_loop.run_forever()\\n'], index=0, positions=Positions(lineno=215, end_lineno=215, col_offset=12, end_col_offset=43)), FrameInfo(frame=<frame at 0x106d07400, file '/Users/Noemi/anaconda3/lib/python3.11/site-packages/ipykernel/kernelapp.py', line 711, code start>, filename='/Users/Noemi/anaconda3/lib/python3.11/site-packages/ipykernel/kernelapp.py', lineno=711, function='start', code_context=['                self.io_loop.start()\\n'], index=0, positions=Positions(lineno=711, end_lineno=711, col_offset=16, end_col_offset=36)), FrameInfo(frame=<frame at 0x1055b8520, file '/Users/Noemi/anaconda3/lib/python3.11/site-packages/traitlets/config/application.py', line 992, code launch_instance>, filename='/Users/Noemi/anaconda3/lib/python3.11/site-packages/traitlets/config/application.py', lineno=992, function='launch_instance', code_context=['        app.start()\\n'], index=0, positions=Positions(lineno=992, end_lineno=992, col_offset=8, end_col_offset=19)), FrameInfo(frame=<frame at 0x106e48220, file '/Users/Noemi/anaconda3/lib/python3.11/site-packages/ipykernel_launcher.py', line 17, code <module>>, filename='/Users/Noemi/anaconda3/lib/python3.11/site-packages/ipykernel_launcher.py', lineno=17, function='<module>', code_context=['    app.launch_new_instance()\\n'], index=0, positions=Positions(lineno=17, end_lineno=17, col_offset=4, end_col_offset=29)), FrameInfo(frame=<frame at 0x105429c60, file '<frozen runpy>', line 88, code _run_code>, filename='<frozen runpy>', lineno=88, function='_run_code', code_context=None, index=None, positions=Positions(lineno=88, end_lineno=88, col_offset=4, end_col_offset=27)), FrameInfo(frame=<frame at 0x106d0ee40, file '<frozen runpy>', line 198, code _run_module_as_main>, filename='<frozen runpy>', lineno=198, function='_run_module_as_main', code_context=None, index=None, positions=Positions(lineno=198, end_lineno=199, col_offset=11, end_col_offset=42))]\n"
     ]
    }
   ],
   "source": [
    "x = 5\n",
    "def covid(y):\n",
    "    x = y + 4\n",
    "    stack = inspect.stack()\n",
    "    outer_frames = inspect.getouterframes(inspect.currentframe())\n",
    "    inner_frames = [frame for frame in stack if frame not in outer_frames]\n",
    "    print(len(inner_frames))\n",
    "    print(inner_frames)\n",
    "    print(\"wehjfbhjewfbjhwefhjb\")\n",
    "    print(inspect.currentframe())\n",
    "    def ah2(z):\n",
    "        return z + y\n",
    "    return ah2\n",
    "#print(globals())\n",
    "#print(dir())\n",
    "#print(locals())\n",
    "g = covid(8)\n",
    "\n",
    "stack = inspect.stack()\n",
    "outer_frames = inspect.getouterframes(inspect.currentframe())\n",
    "inner_frames = [frame for frame in stack if frame not in outer_frames]\n",
    "print(len(inner_frames))\n",
    "print(inner_frames)\n",
    "print(outer_frames)"
   ]
  },
  {
   "cell_type": "code",
   "execution_count": null,
   "metadata": {},
   "outputs": [],
   "source": []
  }
 ],
 "metadata": {
  "kernelspec": {
   "display_name": "Python 3.11.3 ('base')",
   "language": "python",
   "name": "python3"
  },
  "language_info": {
   "codemirror_mode": {
    "name": "ipython",
    "version": 3
   },
   "file_extension": ".py",
   "mimetype": "text/x-python",
   "name": "python",
   "nbconvert_exporter": "python",
   "pygments_lexer": "ipython3",
   "version": "3.12.0"
  },
  "orig_nbformat": 4,
  "vscode": {
   "interpreter": {
    "hash": "75641704b3da0317b82915c9f939487820f0728e1233cea988b538def389150c"
   }
  }
 },
 "nbformat": 4,
 "nbformat_minor": 2
}
