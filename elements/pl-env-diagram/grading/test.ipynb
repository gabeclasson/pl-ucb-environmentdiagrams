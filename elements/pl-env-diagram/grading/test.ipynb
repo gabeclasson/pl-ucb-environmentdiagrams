{
 "cells": [
  {
   "cell_type": "markdown",
   "metadata": {},
   "source": [
    "## AHHHHHHHHHHHH"
   ]
  },
  {
   "cell_type": "code",
   "execution_count": 14,
   "metadata": {},
   "outputs": [],
   "source": [
    "\n",
    "test_json = {\n",
    "    \"heap\": {\n",
    "        \"func\": [\n",
    "            {\"name\": \"f\", \"parent\": \"Global\", \"funcIndex\": \"0\", \"nameWidth\": 2},\n",
    "        ],\n",
    "    },\n",
    "    \"frame\": [\n",
    "        {\n",
    "            \"var\": [\n",
    "                {\n",
    "                    \"val\": \"5\",\n",
    "                    \"name\": \"x\",\n",
    "                    \"valWidth\": 2,\n",
    "                    \"varIndex\": \"0\",\n",
    "                    \"nameWidth\": 2,\n",
    "                },\n",
    "                {\n",
    "                    \"val\": \"6\",\n",
    "                    \"name\": \"y\",\n",
    "                    \"valWidth\": 2,\n",
    "                    \"varIndex\": \"1\",\n",
    "                    \"nameWidth\": 2,\n",
    "                },\n",
    "                {\n",
    "                    \"val\": \"'7'\",\n",
    "                    \"name\": \"d\",\n",
    "                    \"valWidth\": 2,\n",
    "                    \"varIndex\": \"2\",\n",
    "                    \"nameWidth\": 2,\n",
    "                },\n",
    "                {\"val\": \"#heap-func-0\", \"name\": \"f\", \"varIndex\": \"3\", \"nameWidth\": 2},\n",
    "            ],\n",
    "            \"frameIndex\": \"0\",\n",
    "        },\n",
    "        {\n",
    "            \"var\": [\n",
    "                {\n",
    "                    \"val\": \"10\",\n",
    "                    \"name\": \"x\",\n",
    "                    \"valWidth\": 2,\n",
    "                    \"varIndex\": \"0\",\n",
    "                    \"nameWidth\": 2,\n",
    "                },\n",
    "                {\n",
    "                    \"val\": \"20\",\n",
    "                    \"name\": \"z\",\n",
    "                    \"valWidth\": 2,\n",
    "                    \"varIndex\": \"1\",\n",
    "                    \"nameWidth\": 2,\n",
    "                },\n",
    "            ],\n",
    "            \"name\": \"f\",\n",
    "            \"parent\": \"Global\",\n",
    "            \"return\": {\"val\": \"5\"},\n",
    "            \"nameWidth\": 2,\n",
    "            \"frameIndex\": \"1\",\n",
    "        },\n",
    "    ],\n",
    "}\n"
   ]
  },
  {
   "cell_type": "markdown",
   "metadata": {},
   "source": [
    "## AHHHHHH"
   ]
  },
  {
   "cell_type": "code",
   "execution_count": 1,
   "metadata": {},
   "outputs": [],
   "source": [
    "import networkx as nx"
   ]
  },
  {
   "cell_type": "code",
   "execution_count": 11,
   "metadata": {},
   "outputs": [],
   "source": [
    "G = nx.DiGraph()\n",
    "G2 = nx.DiGraph()"
   ]
  },
  {
   "cell_type": "code",
   "execution_count": null,
   "metadata": {},
   "outputs": [],
   "source": [
    "def f(input_json):\n",
    "    G = nx.DiGraph()\n",
    "    i = 0\n",
    "    for frame in input_json[\"frame\"]:\n",
    "        if i == 0:\n",
    "            G.add_node(\"Global\")\n",
    "        G.add_node(\"f\" + str(i))"
   ]
  },
  {
   "cell_type": "code",
   "execution_count": 9,
   "metadata": {},
   "outputs": [],
   "source": [
    "G.add_node(1)\n",
    "G2.add_node(2)"
   ]
  },
  {
   "cell_type": "code",
   "execution_count": 12,
   "metadata": {},
   "outputs": [
    {
     "data": {
      "text/plain": [
       "1.0"
      ]
     },
     "execution_count": 12,
     "metadata": {},
     "output_type": "execute_result"
    }
   ],
   "source": [
    "nx.graph_edit_distance(G, G2)"
   ]
  }
 ],
 "metadata": {
  "kernelspec": {
   "display_name": "Python 3.11.4 ('main')",
   "language": "python",
   "name": "python3"
  },
  "language_info": {
   "codemirror_mode": {
    "name": "ipython",
    "version": 3
   },
   "file_extension": ".py",
   "mimetype": "text/x-python",
   "name": "python",
   "nbconvert_exporter": "python",
   "pygments_lexer": "ipython3",
   "version": "3.11.4"
  },
  "orig_nbformat": 4,
  "vscode": {
   "interpreter": {
    "hash": "769a3acebb7cce51654fb6bd37613e08b91ff5ec6060aada6b40d77123c03f58"
   }
  }
 },
 "nbformat": 4,
 "nbformat_minor": 2
}
